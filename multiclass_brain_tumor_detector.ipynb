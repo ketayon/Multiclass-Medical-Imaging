{
 "cells": [
  {
   "cell_type": "code",
   "execution_count": 1,
   "metadata": {},
   "outputs": [],
   "source": [
    "# %pip install numpy\n",
    "# %pip install ipywidgets\n",
    "# %pip install torch\n",
    "# %pip install torchvision\n",
    "# %pip install scikit-learn\n",
    "# %pip install tensorflow\n",
    "# %pip install pennylane\n",
    "# %pip install opencv-python\n",
    "# %pip install kagglehub"
   ]
  },
  {
   "cell_type": "code",
   "execution_count": 2,
   "metadata": {},
   "outputs": [
    {
     "name": "stdout",
     "output_type": "stream",
     "text": [
      "Using device: cpu\n"
     ]
    }
   ],
   "source": [
    "import os, random\n",
    "import numpy as np\n",
    "from PIL import Image\n",
    "import kagglehub\n",
    "import torch\n",
    "import torch.nn as nn\n",
    "import torch.nn.functional as F\n",
    "from torch.utils.data import DataLoader, TensorDataset, WeightedRandomSampler, random_split\n",
    "from torchvision import transforms, models\n",
    "from sklearn import metrics\n",
    "from sklearn.utils.class_weight import compute_class_weight\n",
    "from sklearn.utils import resample\n",
    "from sklearn.preprocessing import LabelEncoder\n",
    "import matplotlib.pyplot as plt\n",
    "from tqdm import tqdm\n",
    "import pennylane as qml\n",
    "from pennylane import numpy as pnp\n",
    "\n",
    "import warnings\n",
    "warnings.filterwarnings(\"ignore\")\n",
    "\n",
    "seed = 42\n",
    "random.seed(seed); np.random.seed(seed); torch.manual_seed(seed); torch.cuda.manual_seed_all(seed)\n",
    "torch.backends.cudnn.deterministic = True\n",
    "torch.backends.cudnn.benchmark = False\n",
    "\n",
    "device = torch.device(\"cuda\" if torch.cuda.is_available() else \"cpu\")\n",
    "print(\"Using device:\", device)"
   ]
  },
  {
   "cell_type": "markdown",
   "metadata": {},
   "source": [
    "Download latest version https://www.kaggle.com/datasets/sartajbhuvaji/brain-tumor-classification-mri/data"
   ]
  },
  {
   "cell_type": "markdown",
   "metadata": {},
   "source": [
    "## Data preprocessing"
   ]
  },
  {
   "cell_type": "code",
   "execution_count": 3,
   "metadata": {},
   "outputs": [],
   "source": [
    "path = kagglehub.dataset_download(\"sartajbhuvaji/brain-tumor-classification-mri\")\n",
    "dataset_path_train = f\"{path}/Training\"\n",
    "dataset_path_test  = f\"{path}/Testing\"\n",
    "img_size = (224, 224)\n",
    "class_names = [\"glioma_tumor\", \"meningioma_tumor\", \"no_tumor\", \"pituitary_tumor\"]\n",
    "samples_per_class = 2000\n",
    "\n",
    "train_transform = transforms.Compose([\n",
    "    transforms.Grayscale(num_output_channels=3),\n",
    "    transforms.Resize(img_size),\n",
    "    transforms.RandomHorizontalFlip(),\n",
    "    transforms.RandomRotation(15),\n",
    "    transforms.ToTensor(),\n",
    "    transforms.Normalize([0.5]*3, [0.5]*3)\n",
    "])\n",
    "\n",
    "test_transform = transforms.Compose([\n",
    "    transforms.Grayscale(num_output_channels=3),\n",
    "    transforms.Resize(img_size),\n",
    "    transforms.ToTensor(),\n",
    "    transforms.Normalize([0.5]*3, [0.5]*3)\n",
    "])\n",
    "\n",
    "label_encoder = LabelEncoder()\n",
    "\n",
    "def load_images_from_folder(folder, label, transform):\n",
    "    data, labels = [], []\n",
    "    for img_name in os.listdir(folder):\n",
    "        try:\n",
    "            img_path = os.path.join(folder, img_name)\n",
    "            img = Image.open(img_path).convert(\"RGB\")\n",
    "            img = transform(img)\n",
    "            data.append(img)\n",
    "            labels.append(label)\n",
    "        except Exception as e:\n",
    "            print(f\"[Warning] Error loading {img_path}: {e}\")\n",
    "    return data, labels\n",
    "\n",
    "def load_dataset(dataset_path, transform, limit_per_class=None):\n",
    "    X_all, y_all = [], []\n",
    "    for class_name in class_names:\n",
    "        folder = os.path.join(dataset_path, class_name)\n",
    "        X_class, y_class = load_images_from_folder(folder, class_name, transform)\n",
    "        if limit_per_class and len(X_class) > 0:\n",
    "            X_class, y_class = resample(X_class, y_class, replace=True, n_samples=limit_per_class, random_state=42)\n",
    "        X_all.extend(X_class)\n",
    "        y_all.extend(y_class)\n",
    "    label_encoder.fit(y_all)\n",
    "    y_encoded = label_encoder.transform(y_all)\n",
    "    return torch.stack(X_all), torch.tensor(y_encoded)\n",
    "\n",
    "X_train, y_train = load_dataset(dataset_path_train, train_transform, samples_per_class)\n",
    "X_test, y_test = load_dataset(dataset_path_test, test_transform, samples_per_class // 2)\n",
    "\n",
    "full_dataset = TensorDataset(X_train, y_train)\n",
    "\n",
    "dataset_len = len(full_dataset)\n",
    "train_size = int(0.9 * dataset_len)\n",
    "val_size = dataset_len - train_size\n",
    "train_subset, val_subset = random_split(full_dataset, [train_size, val_size], generator=torch.Generator().manual_seed(seed))\n",
    "\n",
    "y_train_subset = y_train[train_subset.indices]\n",
    "num_classes = len(class_names)\n",
    "counts = np.bincount(y_train_subset.numpy(), minlength=num_classes)\n",
    "counts[counts == 0] = 1\n",
    "class_weights = torch.tensor((counts.sum() / (num_classes * counts)).astype(np.float32))  # inversely proportional\n",
    "\n",
    "sample_weights = class_weights[y_train_subset].double()\n",
    "train_sampler = WeightedRandomSampler(weights=sample_weights, num_samples=len(sample_weights), replacement=True)\n",
    "\n",
    "batch_size = 32\n",
    "train_loader = DataLoader(train_subset, batch_size=batch_size, sampler=train_sampler, pin_memory=True)\n",
    "val_loader   = DataLoader(val_subset,   batch_size=batch_size, shuffle=False, pin_memory=True)"
   ]
  },
  {
   "cell_type": "markdown",
   "metadata": {},
   "source": [
    "## Hybrid model"
   ]
  },
  {
   "cell_type": "code",
   "execution_count": null,
   "metadata": {},
   "outputs": [],
   "source": [
    "qdevice = qml.device(\"default.qubit\", wires=6)\n",
    "\n",
    "@qml.qnode(qdevice, interface=\"torch\")\n",
    "def quantum_circuit(inputs, weights):\n",
    "    for i in range(6):\n",
    "        qml.RY(inputs[i % len(inputs)], wires=i)\n",
    "    qml.templates.BasicEntanglerLayers(weights, wires=range(6))\n",
    "    return [qml.expval(qml.PauliZ(i)) for i in range(4)]\n",
    "\n",
    "q_shapes = {\"weights\": (4, 6)}\n",
    "quantum_layer = qml.qnn.TorchLayer(quantum_circuit, q_shapes).to(device)\n",
    "\n",
    "class QuantumResNetClassifier(nn.Module):\n",
    "    def __init__(self):\n",
    "        super().__init__()\n",
    "        try:\n",
    "            self.base_model = models.resnet18(weights=models.ResNet18_Weights.IMAGENET1K_V1)\n",
    "        except Exception:\n",
    "            self.base_model = models.resnet18(pretrained=True)\n",
    "        self.base_model.fc = nn.Identity()\n",
    "        self.fc1 = nn.Linear(512, 6)\n",
    "        self.quantum = quantum_layer\n",
    "        self.fc2 = nn.Linear(4, 4)\n",
    "\n",
    "    def forward(self, x):\n",
    "        x = self.base_model(x)\n",
    "        x = self.fc1(x)\n",
    "        x = torch.stack([self.quantum(xi) for xi in x], dim=0)\n",
    "        x = self.fc2(x) \n",
    "        return x"
   ]
  },
  {
   "cell_type": "markdown",
   "metadata": {},
   "source": [
    "## Train"
   ]
  },
  {
   "cell_type": "code",
   "execution_count": 5,
   "metadata": {},
   "outputs": [
    {
     "name": "stderr",
     "output_type": "stream",
     "text": [
      "                                                                                    \r"
     ]
    },
    {
     "name": "stdout",
     "output_type": "stream",
     "text": [
      "Epoch 1, Val Loss: 1.2613, Val Acc: 0.4850\n"
     ]
    },
    {
     "name": "stderr",
     "output_type": "stream",
     "text": [
      "                                                                                    \r"
     ]
    },
    {
     "name": "stdout",
     "output_type": "stream",
     "text": [
      "Epoch 2, Val Loss: 1.1898, Val Acc: 0.4888\n"
     ]
    },
    {
     "name": "stderr",
     "output_type": "stream",
     "text": [
      "                                                                                    \r"
     ]
    },
    {
     "name": "stdout",
     "output_type": "stream",
     "text": [
      "Epoch 3, Val Loss: 1.1061, Val Acc: 0.5012\n"
     ]
    },
    {
     "name": "stderr",
     "output_type": "stream",
     "text": [
      "                                                                                     \r"
     ]
    },
    {
     "name": "stdout",
     "output_type": "stream",
     "text": [
      "Epoch 4, Val Loss: 0.9966, Val Acc: 0.7362\n"
     ]
    },
    {
     "name": "stderr",
     "output_type": "stream",
     "text": [
      "                                                                                     \r"
     ]
    },
    {
     "name": "stdout",
     "output_type": "stream",
     "text": [
      "Epoch 5, Val Loss: 0.8802, Val Acc: 0.9862\n"
     ]
    }
   ],
   "source": [
    "def train_model(model, train_loader, val_loader, epochs=5, patience=3, lr=3e-4, wd=1e-5, class_weights=None):\n",
    "    model.to(device)\n",
    "    optimizer = torch.optim.Adam(model.parameters(), lr=lr, weight_decay=wd)\n",
    "\n",
    "    criterion = nn.CrossEntropyLoss(weight=class_weights.to(device) if class_weights is not None else None,\n",
    "                                    label_smoothing=0.1)\n",
    "\n",
    "    best_loss = float('inf')\n",
    "    patience_counter = 0\n",
    "\n",
    "    for epoch in range(epochs):\n",
    "        model.train()\n",
    "        total_loss, correct, total = 0.0, 0, 0\n",
    "        loop = tqdm(train_loader, desc=f\"Epoch [{epoch+1}/{epochs}]\", leave=False)\n",
    "        for X_batch, y_batch in loop:\n",
    "            X_batch, y_batch = X_batch.to(device), y_batch.to(device)\n",
    "            optimizer.zero_grad()\n",
    "            logits = model(X_batch)\n",
    "            loss = criterion(logits, y_batch)\n",
    "            loss.backward()\n",
    "            optimizer.step()\n",
    "\n",
    "            total_loss += loss.item() * y_batch.size(0)\n",
    "            pred = logits.argmax(dim=1)\n",
    "            correct += (pred == y_batch).sum().item()\n",
    "            total += y_batch.size(0)\n",
    "            loop.set_postfix(loss=loss.item(), acc=correct/total)\n",
    "\n",
    "        # Validation\n",
    "        model.eval()\n",
    "        val_loss, val_correct, val_total = 0.0, 0, 0\n",
    "        with torch.no_grad():\n",
    "            for X_val, y_val in val_loader:\n",
    "                X_val, y_val = X_val.to(device), y_val.to(device)\n",
    "                logits = model(X_val)\n",
    "                loss = criterion(logits, y_val)\n",
    "                val_loss += loss.item() * y_val.size(0)\n",
    "                pred = logits.argmax(dim=1)\n",
    "                val_correct += (pred == y_val).sum().item()\n",
    "                val_total += y_val.size(0)\n",
    "\n",
    "        val_loss /= max(1, val_total)\n",
    "        val_acc = val_correct / max(1, val_total)\n",
    "        print(f\"Epoch {epoch+1}, Val Loss: {val_loss:.4f}, Val Acc: {val_acc:.4f}\")\n",
    "\n",
    "        if val_loss < best_loss - 1e-4:\n",
    "            best_loss = val_loss\n",
    "            patience_counter = 0\n",
    "        else:\n",
    "            patience_counter += 1\n",
    "            if patience_counter >= patience:\n",
    "                print(\"Early stopping.\")\n",
    "                break\n",
    "\n",
    "model = QuantumResNetClassifier()\n",
    "history = train_model(model, train_loader, val_loader, epochs=5, patience=3, class_weights=class_weights)"
   ]
  },
  {
   "cell_type": "markdown",
   "metadata": {},
   "source": [
    "## Evaluation"
   ]
  },
  {
   "cell_type": "code",
   "execution_count": 10,
   "metadata": {},
   "outputs": [
    {
     "name": "stdout",
     "output_type": "stream",
     "text": [
      "Accuracy: 98.62%\n",
      "                  precision    recall  f1-score   support\n",
      "\n",
      "    glioma_tumor       0.99      0.99      0.99       202\n",
      "meningioma_tumor       0.99      0.96      0.98       192\n",
      "        no_tumor       1.00      0.99      0.99       194\n",
      " pituitary_tumor       0.97      1.00      0.99       212\n",
      "\n",
      "        accuracy                           0.99       800\n",
      "       macro avg       0.99      0.99      0.99       800\n",
      "    weighted avg       0.99      0.99      0.99       800\n",
      "\n"
     ]
    },
    {
     "data": {
      "image/png": "[encoded data removed]",
      "text/plain": [
       "<Figure size 640x480 with 2 Axes>"
      ]
     },
     "metadata": {},
     "output_type": "display_data"
    }
   ],
   "source": [
    "def evaluate(model, loader, class_names):\n",
    "    model.eval()\n",
    "    ys, yh = [], []\n",
    "    with torch.no_grad():\n",
    "        for xb, yb in loader:\n",
    "            xb = xb.to(device)\n",
    "            logp = model(xb)\n",
    "            preds = logp.argmax(dim=1).cpu().numpy()\n",
    "            yh.extend(preds); ys.extend(yb.numpy())\n",
    "    print(f\"Accuracy: {metrics.accuracy_score(ys, yh)*100:.2f}%\")\n",
    "    print(metrics.classification_report(ys, yh, target_names=class_names))\n",
    "    metrics.ConfusionMatrixDisplay.from_predictions(ys, yh, display_labels=class_names, xticks_rotation=45, cmap=\"Blues\")\n",
    "    plt.tight_layout(); plt.show()\n",
    "\n",
    "evaluate(model, val_loader, class_names)"
   ]
  }
 ],
 "metadata": {
  "kernelspec": {
   "display_name": "train",
   "language": "python",
   "name": "python3"
  },
  "language_info": {
   "codemirror_mode": {
    "name": "ipython",
    "version": 3
   },
   "file_extension": ".py",
   "mimetype": "text/x-python",
   "name": "python",
   "nbconvert_exporter": "python",
   "pygments_lexer": "ipython3",
   "version": "3.12.11"
  }
 },
 "nbformat": 4,
 "nbformat_minor": 2
}
